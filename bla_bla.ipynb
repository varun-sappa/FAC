{
  "nbformat": 4,
  "nbformat_minor": 0,
  "metadata": {
    "colab": {
      "name": "bla bla.ipynb",
      "provenance": [],
      "collapsed_sections": []
    },
    "kernelspec": {
      "name": "python3",
      "display_name": "Python 3"
    },
    "language_info": {
      "name": "python"
    }
  },
  "cells": [
    {
      "cell_type": "code",
      "execution_count": null,
      "metadata": {
        "colab": {
          "base_uri": "https://localhost:8080/",
          "height": 1000
        },
        "id": "pfWtI1lAMfP2",
        "outputId": "da49d6ab-5df8-44b0-95ad-a35ca05478a4"
      },
      "outputs": [
        {
          "output_type": "stream",
          "name": "stdout",
          "text": [
            "Looking in indexes: https://pypi.org/simple, https://us-python.pkg.dev/colab-wheels/public/simple/\n",
            "Requirement already satisfied: selenium in /usr/local/lib/python3.7/dist-packages (4.3.0)\n",
            "Requirement already satisfied: trio~=0.17 in /usr/local/lib/python3.7/dist-packages (from selenium) (0.21.0)\n",
            "Requirement already satisfied: trio-websocket~=0.9 in /usr/local/lib/python3.7/dist-packages (from selenium) (0.9.2)\n",
            "Requirement already satisfied: urllib3[secure,socks]~=1.26 in /usr/local/lib/python3.7/dist-packages (from selenium) (1.26.10)\n",
            "Requirement already satisfied: sortedcontainers in /usr/local/lib/python3.7/dist-packages (from trio~=0.17->selenium) (2.4.0)\n",
            "Requirement already satisfied: async-generator>=1.9 in /usr/local/lib/python3.7/dist-packages (from trio~=0.17->selenium) (1.10)\n",
            "Requirement already satisfied: attrs>=19.2.0 in /usr/local/lib/python3.7/dist-packages (from trio~=0.17->selenium) (21.4.0)\n",
            "Requirement already satisfied: idna in /usr/local/lib/python3.7/dist-packages (from trio~=0.17->selenium) (2.10)\n",
            "Requirement already satisfied: sniffio in /usr/local/lib/python3.7/dist-packages (from trio~=0.17->selenium) (1.2.0)\n",
            "Requirement already satisfied: outcome in /usr/local/lib/python3.7/dist-packages (from trio~=0.17->selenium) (1.2.0)\n",
            "Requirement already satisfied: wsproto>=0.14 in /usr/local/lib/python3.7/dist-packages (from trio-websocket~=0.9->selenium) (1.1.0)\n",
            "Requirement already satisfied: certifi in /usr/local/lib/python3.7/dist-packages (from urllib3[secure,socks]~=1.26->selenium) (2022.6.15)\n",
            "Requirement already satisfied: pyOpenSSL>=0.14 in /usr/local/lib/python3.7/dist-packages (from urllib3[secure,socks]~=1.26->selenium) (22.0.0)\n",
            "Requirement already satisfied: cryptography>=1.3.4 in /usr/local/lib/python3.7/dist-packages (from urllib3[secure,socks]~=1.26->selenium) (37.0.4)\n",
            "Requirement already satisfied: PySocks!=1.5.7,<2.0,>=1.5.6 in /usr/local/lib/python3.7/dist-packages (from urllib3[secure,socks]~=1.26->selenium) (1.7.1)\n",
            "Requirement already satisfied: cffi>=1.12 in /usr/local/lib/python3.7/dist-packages (from cryptography>=1.3.4->urllib3[secure,socks]~=1.26->selenium) (1.15.1)\n",
            "Requirement already satisfied: pycparser in /usr/local/lib/python3.7/dist-packages (from cffi>=1.12->cryptography>=1.3.4->urllib3[secure,socks]~=1.26->selenium) (2.21)\n",
            "Requirement already satisfied: h11<1,>=0.9.0 in /usr/local/lib/python3.7/dist-packages (from wsproto>=0.14->trio-websocket~=0.9->selenium) (0.13.0)\n",
            "Requirement already satisfied: typing-extensions in /usr/local/lib/python3.7/dist-packages (from h11<1,>=0.9.0->wsproto>=0.14->trio-websocket~=0.9->selenium) (4.1.1)\n",
            "Hit:1 http://archive.ubuntu.com/ubuntu bionic InRelease\n",
            "Hit:2 https://developer.download.nvidia.com/compute/cuda/repos/ubuntu1804/x86_64  InRelease\n",
            "Hit:3 https://cloud.r-project.org/bin/linux/ubuntu bionic-cran40/ InRelease\n",
            "Hit:4 http://archive.ubuntu.com/ubuntu bionic-updates InRelease\n",
            "Hit:5 http://security.ubuntu.com/ubuntu bionic-security InRelease\n",
            "Hit:6 http://archive.ubuntu.com/ubuntu bionic-backports InRelease\n",
            "Ign:7 https://developer.download.nvidia.com/compute/machine-learning/repos/ubuntu1804/x86_64  InRelease\n",
            "Hit:8 https://developer.download.nvidia.com/compute/machine-learning/repos/ubuntu1804/x86_64  Release\n",
            "Hit:9 http://ppa.launchpad.net/c2d4u.team/c2d4u4.0+/ubuntu bionic InRelease\n",
            "Hit:10 http://ppa.launchpad.net/cran/libgit2/ubuntu bionic InRelease\n",
            "Hit:11 http://ppa.launchpad.net/deadsnakes/ppa/ubuntu bionic InRelease\n",
            "Hit:12 http://ppa.launchpad.net/graphics-drivers/ppa/ubuntu bionic InRelease\n",
            "Reading package lists... Done\n",
            "E: dpkg was interrupted, you must manually run 'dpkg --configure -a' to correct the problem. \n",
            "Looking in indexes: https://pypi.org/simple, https://us-python.pkg.dev/colab-wheels/public/simple/\n",
            "Requirement already satisfied: selenium in /usr/local/lib/python3.7/dist-packages (4.3.0)\n",
            "Requirement already satisfied: trio-websocket~=0.9 in /usr/local/lib/python3.7/dist-packages (from selenium) (0.9.2)\n",
            "Requirement already satisfied: urllib3[secure,socks]~=1.26 in /usr/local/lib/python3.7/dist-packages (from selenium) (1.26.10)\n",
            "Requirement already satisfied: trio~=0.17 in /usr/local/lib/python3.7/dist-packages (from selenium) (0.21.0)\n",
            "Requirement already satisfied: sortedcontainers in /usr/local/lib/python3.7/dist-packages (from trio~=0.17->selenium) (2.4.0)\n",
            "Requirement already satisfied: idna in /usr/local/lib/python3.7/dist-packages (from trio~=0.17->selenium) (2.10)\n",
            "Requirement already satisfied: async-generator>=1.9 in /usr/local/lib/python3.7/dist-packages (from trio~=0.17->selenium) (1.10)\n",
            "Requirement already satisfied: sniffio in /usr/local/lib/python3.7/dist-packages (from trio~=0.17->selenium) (1.2.0)\n",
            "Requirement already satisfied: outcome in /usr/local/lib/python3.7/dist-packages (from trio~=0.17->selenium) (1.2.0)\n",
            "Requirement already satisfied: attrs>=19.2.0 in /usr/local/lib/python3.7/dist-packages (from trio~=0.17->selenium) (21.4.0)\n",
            "Requirement already satisfied: wsproto>=0.14 in /usr/local/lib/python3.7/dist-packages (from trio-websocket~=0.9->selenium) (1.1.0)\n",
            "Requirement already satisfied: PySocks!=1.5.7,<2.0,>=1.5.6 in /usr/local/lib/python3.7/dist-packages (from urllib3[secure,socks]~=1.26->selenium) (1.7.1)\n",
            "Requirement already satisfied: pyOpenSSL>=0.14 in /usr/local/lib/python3.7/dist-packages (from urllib3[secure,socks]~=1.26->selenium) (22.0.0)\n",
            "Requirement already satisfied: certifi in /usr/local/lib/python3.7/dist-packages (from urllib3[secure,socks]~=1.26->selenium) (2022.6.15)\n",
            "Requirement already satisfied: cryptography>=1.3.4 in /usr/local/lib/python3.7/dist-packages (from urllib3[secure,socks]~=1.26->selenium) (37.0.4)\n",
            "Requirement already satisfied: cffi>=1.12 in /usr/local/lib/python3.7/dist-packages (from cryptography>=1.3.4->urllib3[secure,socks]~=1.26->selenium) (1.15.1)\n",
            "Requirement already satisfied: pycparser in /usr/local/lib/python3.7/dist-packages (from cffi>=1.12->cryptography>=1.3.4->urllib3[secure,socks]~=1.26->selenium) (2.21)\n",
            "Requirement already satisfied: h11<1,>=0.9.0 in /usr/local/lib/python3.7/dist-packages (from wsproto>=0.14->trio-websocket~=0.9->selenium) (0.13.0)\n",
            "Requirement already satisfied: typing-extensions in /usr/local/lib/python3.7/dist-packages (from h11<1,>=0.9.0->wsproto>=0.14->trio-websocket~=0.9->selenium) (4.1.1)\n",
            "Hit:1 https://developer.download.nvidia.com/compute/cuda/repos/ubuntu1804/x86_64  InRelease\n",
            "Hit:2 https://cloud.r-project.org/bin/linux/ubuntu bionic-cran40/ InRelease\n",
            "Hit:3 http://security.ubuntu.com/ubuntu bionic-security InRelease\n",
            "Ign:4 https://developer.download.nvidia.com/compute/machine-learning/repos/ubuntu1804/x86_64  InRelease\n",
            "Hit:5 https://developer.download.nvidia.com/compute/machine-learning/repos/ubuntu1804/x86_64  Release\n",
            "Hit:6 http://ppa.launchpad.net/c2d4u.team/c2d4u4.0+/ubuntu bionic InRelease\n",
            "Hit:7 http://archive.ubuntu.com/ubuntu bionic InRelease\n",
            "Hit:8 http://ppa.launchpad.net/cran/libgit2/ubuntu bionic InRelease\n",
            "Hit:9 http://archive.ubuntu.com/ubuntu bionic-updates InRelease\n",
            "Hit:10 http://archive.ubuntu.com/ubuntu bionic-backports InRelease\n",
            "Hit:11 http://ppa.launchpad.net/deadsnakes/ppa/ubuntu bionic InRelease\n",
            "Hit:13 http://ppa.launchpad.net/graphics-drivers/ppa/ubuntu bionic InRelease\n",
            "Reading package lists... Done\n",
            "E: dpkg was interrupted, you must manually run 'dpkg --configure -a' to correct the problem. \n",
            "cp: cannot stat '/usr/lib/chromium-browser/chromedriver': No such file or directory\n"
          ]
        },
        {
          "output_type": "error",
          "ename": "WebDriverException",
          "evalue": "ignored",
          "traceback": [
            "\u001b[0;31m---------------------------------------------------------------------------\u001b[0m",
            "\u001b[0;31mFileNotFoundError\u001b[0m                         Traceback (most recent call last)",
            "\u001b[0;32m/usr/local/lib/python3.7/dist-packages/selenium/webdriver/common/service.py\u001b[0m in \u001b[0;36mstart\u001b[0;34m(self)\u001b[0m\n\u001b[1;32m     75\u001b[0m                                             \u001b[0mstdin\u001b[0m\u001b[0;34m=\u001b[0m\u001b[0mPIPE\u001b[0m\u001b[0;34m,\u001b[0m\u001b[0;34m\u001b[0m\u001b[0;34m\u001b[0m\u001b[0m\n\u001b[0;32m---> 76\u001b[0;31m                                             creationflags=self.creationflags)\n\u001b[0m\u001b[1;32m     77\u001b[0m         \u001b[0;32mexcept\u001b[0m \u001b[0mTypeError\u001b[0m\u001b[0;34m:\u001b[0m\u001b[0;34m\u001b[0m\u001b[0;34m\u001b[0m\u001b[0m\n",
            "\u001b[0;32m/usr/lib/python3.7/subprocess.py\u001b[0m in \u001b[0;36m__init__\u001b[0;34m(self, args, bufsize, executable, stdin, stdout, stderr, preexec_fn, close_fds, shell, cwd, env, universal_newlines, startupinfo, creationflags, restore_signals, start_new_session, pass_fds, encoding, errors, text)\u001b[0m\n\u001b[1;32m    799\u001b[0m                                 \u001b[0merrread\u001b[0m\u001b[0;34m,\u001b[0m \u001b[0merrwrite\u001b[0m\u001b[0;34m,\u001b[0m\u001b[0;34m\u001b[0m\u001b[0;34m\u001b[0m\u001b[0m\n\u001b[0;32m--> 800\u001b[0;31m                                 restore_signals, start_new_session)\n\u001b[0m\u001b[1;32m    801\u001b[0m         \u001b[0;32mexcept\u001b[0m\u001b[0;34m:\u001b[0m\u001b[0;34m\u001b[0m\u001b[0;34m\u001b[0m\u001b[0m\n",
            "\u001b[0;32m/usr/lib/python3.7/subprocess.py\u001b[0m in \u001b[0;36m_execute_child\u001b[0;34m(self, args, executable, preexec_fn, close_fds, pass_fds, cwd, env, startupinfo, creationflags, shell, p2cread, p2cwrite, c2pread, c2pwrite, errread, errwrite, restore_signals, start_new_session)\u001b[0m\n\u001b[1;32m   1550\u001b[0m                             \u001b[0merr_msg\u001b[0m \u001b[0;34m+=\u001b[0m \u001b[0;34m': '\u001b[0m \u001b[0;34m+\u001b[0m \u001b[0mrepr\u001b[0m\u001b[0;34m(\u001b[0m\u001b[0merr_filename\u001b[0m\u001b[0;34m)\u001b[0m\u001b[0;34m\u001b[0m\u001b[0;34m\u001b[0m\u001b[0m\n\u001b[0;32m-> 1551\u001b[0;31m                     \u001b[0;32mraise\u001b[0m \u001b[0mchild_exception_type\u001b[0m\u001b[0;34m(\u001b[0m\u001b[0merrno_num\u001b[0m\u001b[0;34m,\u001b[0m \u001b[0merr_msg\u001b[0m\u001b[0;34m,\u001b[0m \u001b[0merr_filename\u001b[0m\u001b[0;34m)\u001b[0m\u001b[0;34m\u001b[0m\u001b[0;34m\u001b[0m\u001b[0m\n\u001b[0m\u001b[1;32m   1552\u001b[0m                 \u001b[0;32mraise\u001b[0m \u001b[0mchild_exception_type\u001b[0m\u001b[0;34m(\u001b[0m\u001b[0merr_msg\u001b[0m\u001b[0;34m)\u001b[0m\u001b[0;34m\u001b[0m\u001b[0;34m\u001b[0m\u001b[0m\n",
            "\u001b[0;31mFileNotFoundError\u001b[0m: [Errno 2] No such file or directory: 'chromedriver': 'chromedriver'",
            "\nDuring handling of the above exception, another exception occurred:\n",
            "\u001b[0;31mWebDriverException\u001b[0m                        Traceback (most recent call last)",
            "\u001b[0;32m<ipython-input-2-3ad0a28f0221>\u001b[0m in \u001b[0;36m<module>\u001b[0;34m()\u001b[0m\n\u001b[1;32m     22\u001b[0m \u001b[0mchrome_options\u001b[0m\u001b[0;34m.\u001b[0m\u001b[0madd_argument\u001b[0m\u001b[0;34m(\u001b[0m\u001b[0;34m'--no-sandbox'\u001b[0m\u001b[0;34m)\u001b[0m\u001b[0;34m\u001b[0m\u001b[0;34m\u001b[0m\u001b[0m\n\u001b[1;32m     23\u001b[0m \u001b[0mchrome_options\u001b[0m\u001b[0;34m.\u001b[0m\u001b[0madd_argument\u001b[0m\u001b[0;34m(\u001b[0m\u001b[0;34m'--disable-dev-shm-usage'\u001b[0m\u001b[0;34m)\u001b[0m\u001b[0;34m\u001b[0m\u001b[0;34m\u001b[0m\u001b[0m\n\u001b[0;32m---> 24\u001b[0;31m \u001b[0mwd\u001b[0m \u001b[0;34m=\u001b[0m \u001b[0mwebdriver\u001b[0m\u001b[0;34m.\u001b[0m\u001b[0mChrome\u001b[0m\u001b[0;34m(\u001b[0m\u001b[0;34m'chromedriver'\u001b[0m\u001b[0;34m,\u001b[0m\u001b[0moptions\u001b[0m\u001b[0;34m=\u001b[0m\u001b[0mchrome_options\u001b[0m\u001b[0;34m)\u001b[0m\u001b[0;34m\u001b[0m\u001b[0;34m\u001b[0m\u001b[0m\n\u001b[0m\u001b[1;32m     25\u001b[0m \u001b[0mwd\u001b[0m\u001b[0;34m.\u001b[0m\u001b[0mget\u001b[0m\u001b[0;34m(\u001b[0m\u001b[0;34m\"https://www.webite-url.com\"\u001b[0m\u001b[0;34m)\u001b[0m\u001b[0;34m\u001b[0m\u001b[0;34m\u001b[0m\u001b[0m\n\u001b[1;32m     26\u001b[0m \u001b[0;31m#stackechange\u001b[0m\u001b[0;34m\u001b[0m\u001b[0;34m\u001b[0m\u001b[0;34m\u001b[0m\u001b[0m\n",
            "\u001b[0;32m/usr/local/lib/python3.7/dist-packages/selenium/webdriver/chrome/webdriver.py\u001b[0m in \u001b[0;36m__init__\u001b[0;34m(self, executable_path, port, options, service_args, desired_capabilities, service_log_path, chrome_options, service, keep_alive)\u001b[0m\n\u001b[1;32m     70\u001b[0m                          \u001b[0mport\u001b[0m\u001b[0;34m,\u001b[0m \u001b[0moptions\u001b[0m\u001b[0;34m,\u001b[0m\u001b[0;34m\u001b[0m\u001b[0;34m\u001b[0m\u001b[0m\n\u001b[1;32m     71\u001b[0m                          \u001b[0mservice_args\u001b[0m\u001b[0;34m,\u001b[0m \u001b[0mdesired_capabilities\u001b[0m\u001b[0;34m,\u001b[0m\u001b[0;34m\u001b[0m\u001b[0;34m\u001b[0m\u001b[0m\n\u001b[0;32m---> 72\u001b[0;31m                          service_log_path, service, keep_alive)\n\u001b[0m",
            "\u001b[0;32m/usr/local/lib/python3.7/dist-packages/selenium/webdriver/chromium/webdriver.py\u001b[0m in \u001b[0;36m__init__\u001b[0;34m(self, browser_name, vendor_prefix, port, options, service_args, desired_capabilities, service_log_path, service, keep_alive)\u001b[0m\n\u001b[1;32m     87\u001b[0m \u001b[0;34m\u001b[0m\u001b[0m\n\u001b[1;32m     88\u001b[0m         \u001b[0mself\u001b[0m\u001b[0;34m.\u001b[0m\u001b[0mservice\u001b[0m \u001b[0;34m=\u001b[0m \u001b[0mservice\u001b[0m\u001b[0;34m\u001b[0m\u001b[0;34m\u001b[0m\u001b[0m\n\u001b[0;32m---> 89\u001b[0;31m         \u001b[0mself\u001b[0m\u001b[0;34m.\u001b[0m\u001b[0mservice\u001b[0m\u001b[0;34m.\u001b[0m\u001b[0mstart\u001b[0m\u001b[0;34m(\u001b[0m\u001b[0;34m)\u001b[0m\u001b[0;34m\u001b[0m\u001b[0;34m\u001b[0m\u001b[0m\n\u001b[0m\u001b[1;32m     90\u001b[0m \u001b[0;34m\u001b[0m\u001b[0m\n\u001b[1;32m     91\u001b[0m         \u001b[0;32mtry\u001b[0m\u001b[0;34m:\u001b[0m\u001b[0;34m\u001b[0m\u001b[0;34m\u001b[0m\u001b[0m\n",
            "\u001b[0;32m/usr/local/lib/python3.7/dist-packages/selenium/webdriver/common/service.py\u001b[0m in \u001b[0;36mstart\u001b[0;34m(self)\u001b[0m\n\u001b[1;32m     81\u001b[0m                 raise WebDriverException(\n\u001b[1;32m     82\u001b[0m                     \"'{}' executable needs to be in PATH. {}\".format(\n\u001b[0;32m---> 83\u001b[0;31m                         os.path.basename(self.path), self.start_error_message)\n\u001b[0m\u001b[1;32m     84\u001b[0m                 )\n\u001b[1;32m     85\u001b[0m             \u001b[0;32melif\u001b[0m \u001b[0merr\u001b[0m\u001b[0;34m.\u001b[0m\u001b[0merrno\u001b[0m \u001b[0;34m==\u001b[0m \u001b[0merrno\u001b[0m\u001b[0;34m.\u001b[0m\u001b[0mEACCES\u001b[0m\u001b[0;34m:\u001b[0m\u001b[0;34m\u001b[0m\u001b[0;34m\u001b[0m\u001b[0m\n",
            "\u001b[0;31mWebDriverException\u001b[0m: Message: 'chromedriver' executable needs to be in PATH. Please see https://chromedriver.chromium.org/home\n"
          ]
        }
      ],
      "source": [
        "from bs4 import BeautifulSoup\n",
        "import requests\n",
        "import csv\n",
        "import numpy as np\n",
        "import pandas as pd\n",
        "import matplotlib.pyplot as plt\n",
        "from plotly.subplots import make_subplots\n",
        "import plotly.graph_objects as go\n",
        "\n",
        "\n",
        "# from selenium import webdriver\n",
        "# from selenium.webdriver.common.keys import Keys\n",
        "# from selenium.webdriver.support import expected_conditions as EC\n",
        "# from selenium.webdriver.common.by import By\n",
        "# from selenium.webdriver.support.wait import WebDriverWait\n",
        "# from selenium.webdriver.chrome.service import Service\n",
        "# from webdriver_manager.chrome import ChromeDriverManager\n"
      ]
    },
    {
      "cell_type": "code",
      "source": [
        "file = open(\"profit_and_loss_BOB.csv\", \"w\", newline='\\n')\n",
        "urls = ['/1', '/2', '/3']\n",
        "data = dict()\n",
        "write = csv.writer(file)\n",
        "for i in urls:\n",
        "    r = requests.get('https://www.moneycontrol.com/financials/axisbank/profit-lossVI/AB16#AB16'.format(i))\n",
        "    soup = BeautifulSoup(r.text)\n",
        "    a = soup.find_all('tr') \n",
        "    for i in a:\n",
        "        if (i.text):\n",
        "            tds = i.find_all('td')\n",
        "            tds = [x.text for x in tds][:-1]\n",
        "            header = tds[0]\n",
        "            if header != '\\xa0' and '' not in tds:\n",
        "                print(tds)\n",
        "                write.writerow(tds)\n",
        "                if(header in data):\n",
        "                    data[header] += tds[1:]\n",
        "                else:\n",
        "                    data[header] = tds[1:]\n",
        "for i in data:\n",
        "    temp = [i] + data[i]\n",
        "    write.writerow(temp)\n",
        "\n",
        "    #some snippets taken from https://www.red-gate.com/simple-talk/databases/sql-server/bi-sql-server/historical-stock-prices-volumes-python-csv-file/"
      ],
      "metadata": {
        "id": "eaVPxEzROzWW"
      },
      "execution_count": null,
      "outputs": []
    },
    {
      "cell_type": "code",
      "source": [
        "options = webdriver.ChromeOptions()\n",
        "s = Service('C:\\Users\\Admin.JSWSL-DOL-L0444\\Downloads\\Selenium\\chromedriver')\n",
        "driver = webdriver.Chrome(service = s, options = options)\n",
        "driver.get('https://finance.yahoo.com/quote/AXISBANK.NS/history?period1=1595203200&period2=1658275200&interval=1d&filter=history&frequency=1d&includeAdjustedClose=true')\n",
        "\n",
        "import time\n",
        "time.sleep(50)\n",
        "import csv\n",
        "file = open(\"price-history_.csv\", \"w\")\n",
        "write = csv.writer(file)\n",
        "write.writerow(['Date', 'Open', 'High', 'Low', 'Close', 'Adj. Close', 'Volume'])\n",
        "z = driver.find_elements(By.CSS_SELECTOR, \"tr\")\n",
        "for i in z[-1::-1]:\n",
        "    f = i.text.split(\" \")\n",
        "    try:\n",
        "        eval(f[2])\n",
        "        f = [f[0] + \" \" + f[1] + \" \" + f[2]] + f[3:]\n",
        "    except:\n",
        "        pass\n",
        "    print(f)\n",
        "    print(len(f))\n",
        "    write.writerow(f)\n",
        "    print(\"written\")\n",
        "        \n",
        "# print(\"Now exporting\")\n",
        "# with open(\"yahoo-finance-cached.html\", 'w') as f:\n",
        "#     f.write(driver.page_source)"
      ],
      "metadata": {
        "id": "C2HAfpXJSMAh"
      },
      "execution_count": null,
      "outputs": []
    },
    {
      "cell_type": "code",
      "source": [
        "DATE = 0\n",
        "OPEN = 1\n",
        "HIGH = 2\n",
        "LOW = 3\n",
        "CLOSE = 4"
      ],
      "metadata": {
        "id": "KXuwh9ttTqfO"
      },
      "execution_count": null,
      "outputs": []
    },
    {
      "cell_type": "code",
      "source": [
        "data = pd.read_csv('/content/AXISBANK.NS.csv')\n",
        "data\n"
      ],
      "metadata": {
        "id": "7WYdkM7tTr82"
      },
      "execution_count": null,
      "outputs": []
    },
    {
      "cell_type": "code",
      "source": [
        "def func(n):\n",
        "    close = data.copy()\n",
        "    close['func'.format(n)] = close['Close'].rolling(n).mean()\n",
        "    close.dropna(inplace = True)\n",
        "    close.head()\n",
        "    return close\n",
        "    b= func(10)\n",
        "\n",
        "def graph(n):\n",
        "    b = func(n)\n",
        "    fig3 = make_subplots(specs=[[{\"secondary_y\": True}]])\n",
        "    fig3.add_trace(go.Scatter(x=b['Date'],y=b['Close'],name='Price'),secondary_y=False)\n",
        "    fig3.add_trace(go.Scatter(x=b['Date'],y=b['func'],name='Moving Average'),secondary_y=False)\n",
        "    # fig3.add_trace(go.Scatter(x=data['Date'],y=data['Volume'],name='Volume'),secondary_y=False)\n",
        "    fig3.show()"
      ],
      "metadata": {
        "id": "riuWZhb0Ui7I"
      },
      "execution_count": null,
      "outputs": []
    },
    {
      "cell_type": "code",
      "source": [
        "rows = []\n",
        "def frows(): \n",
        "    with open('/content/AXISBANK.NS.csv', 'r') as f:\n",
        "        reader = csv.reader(f)\n",
        "        next(reader)\n",
        "        for row in reader:\n",
        "            z = [row[0]] + [eval(x) for x in row[1:]]\n",
        "            rows.append(z)\n",
        "\n",
        "frows()"
      ],
      "metadata": {
        "id": "1ceEwXQ6Wiw3"
      },
      "execution_count": null,
      "outputs": []
    },
    {
      "cell_type": "code",
      "source": [
        "def mc_ginley(rows, N):\n",
        "    mc_indices = [rows[0][CLOSE]]\n",
        "    for i in rows[1:]:\n",
        "        prev = mc_indices[-1]\n",
        "        mc_index = prev + (i[CLOSE] - prev)/(0.6* N*((i[CLOSE]/prev)**4))\n",
        "        mc_indices.append(mc_index)\n",
        "    return mc_indices\n",
        "\n",
        "\n",
        "def graph_mc_ginley(rows, N):\n",
        "    my = data.copy()\n",
        "    my['mc'] = mc_ginley(rows, N)\n",
        "    fig3 = make_subplots(specs=[[{\"secondary_y\": True}]])\n",
        "    fig3.add_trace(go.Scatter(x=my['Date'],y=my['Close'],name='Price'),secondary_y=False)\n",
        "    fig3.add_trace(go.Scatter(x=my['Date'],y=my['mc'],name='McGinley'),secondary_y=False)\n",
        "    # fig3.add_trace(go.Bar(x=data['Date'],y=data['Volume'],name='Volume'),secondary_y=False) change karte rehne ek saath bahut error arha hai\n",
        "    fig3.show()\n"
      ],
      "metadata": {
        "id": "CvPmHa5RW3QX"
      },
      "execution_count": null,
      "outputs": []
    },
    {
      "cell_type": "code",
      "source": [
        "for I in np.arange(10, 100, 10):\n",
        "    print(I)\n",
        "    graph(I)\n",
        "    graph_mc_ginley(rows, I/2)\n"
      ],
      "metadata": {
        "id": "2UoAurFpV4fX"
      },
      "execution_count": null,
      "outputs": []
    },
    {
      "cell_type": "code",
      "source": [
        "def EMA(data, n, col):\n",
        "    c = data.copy()\n",
        "    c['ewm'] = c[col].ewm(span=n,min_periods=0,adjust=False,ignore_na=False).mean()\n",
        "    return c"
      ],
      "metadata": {
        "id": "QvZvJCbJYt7L"
      },
      "execution_count": null,
      "outputs": []
    },
    {
      "cell_type": "code",
      "source": [
        "def wwma(values, n):\n",
        "  \n",
        "    return values.ewm(alpha=1/n, adjust=False).mean()"
      ],
      "metadata": {
        "id": "J6Hh0e5HYwqL"
      },
      "execution_count": 1,
      "outputs": []
    },
    {
      "cell_type": "code",
      "source": [
        "def ATR(df, n=14):\n",
        "    data = df.copy()\n",
        "    high = data['High']\n",
        "    low = data['Low']\n",
        "    close = data['Close']\n",
        "    data['tr0'] = abs(high - low)\n",
        "    data['tr1'] = abs(high - close.shift())\n",
        "    data['tr2'] = abs(low - close.shift())\n",
        "    tr = data[['tr0', 'tr1', 'tr2']].max(axis=1)\n",
        "    atr = wwma(tr, n)\n",
        "    df['atr'] = atr\n",
        "    return df"
      ],
      "metadata": {
        "id": "tmLL1Z8nY0wp"
      },
      "execution_count": null,
      "outputs": []
    },
    {
      "cell_type": "code",
      "source": [
        "def PGO(n):\n",
        "    c = func(n)\n",
        "    c = ATR(c, n)\n",
        "    c = EMA(c, n, 'atr')\n",
        "    c.dropna(inplace=True)\n",
        "    c['PGO'] = (c['Close'] - c['func'])/c['ewm']\n",
        "    return c"
      ],
      "metadata": {
        "id": "B0e17EfHZFki"
      },
      "execution_count": null,
      "outputs": []
    },
    {
      "cell_type": "code",
      "source": [
        "c = PGO(5)\n",
        "fig3 = make_subplots(rows = 2, cols = 1)\n",
        "fig3.add_trace(go.Scatter(x=c['Date'],y=c['Close'],name='Price'), row = 1, col = 1)\n",
        "fig3.add_trace(go.Scatter(x=c['Date'],y=c['PGO'],name='PG0'),row = 2, col = 1)\n",
        "fig3.update_layout(height=900, width=1000, title_text=\"Price & PGO\")"
      ],
      "metadata": {
        "id": "3hKAwanUZI65"
      },
      "execution_count": null,
      "outputs": []
    },
    {
      "cell_type": "code",
      "source": [
        "BANKS_NIFTY_200 = {\n",
        "    \"AXISBANK\" : \"https://www.moneycontrol.com/financials/axisbank/profit-lossVI/AB16/{}#AB16\",\n",
        "    \"HDFCBANK\" : \"https://www.moneycontrol.com/financials/hdfcbank/profit-lossVI/HDF01/{}#HDF01\",\n",
        "    \"ICICIBANK\" : \"https://www.moneycontrol.com/financials/icicibank/profit-lossVI/ICI02/{}#ICI02\",\n",
        "    \"INDUSINDBK\" : \"https://www.moneycontrol.com/financials/indusindbank/profit-lossVI/IIB/{}#IIB\",\n",
        "    \"SBIN\" : \"https://www.moneycontrol.com/financials/statebankofindia/profit-lossVI/SBI/{}#SBI\",\n",
        "    \"YESBANK\" : \"https://www.moneycontrol.com/financials/yesbank/profit-lossVI/YB/{}#YB\"\n",
        "}\n",
        "\n"
      ],
      "metadata": {
        "id": "XJ7mK0CGZnG_"
      },
      "execution_count": null,
      "outputs": []
    },
    {
      "cell_type": "code",
      "source": [
        "def scrape(url):\n",
        "    urls = ['/1', '/2', '/3']\n",
        "    data = dict()\n",
        "    r = requests.get(url)\n",
        "    soup_ = BeautifulSoup(r.text)\n",
        "    z = soup_.find_all(\"span\", class_=\"span_price_wrap\")\n",
        "#     print(z)\n",
        "    try:\n",
        "        data[\"price\"] = eval(z[0].text)\n",
        "    except:\n",
        "        data[\"price\"] = \"NOT\"\n",
        "    for i in urls:\n",
        "        r = requests.get(url.format(i))\n",
        "        soup = BeautifulSoup(r.text)\n",
        "        z = soup.find_all('tr') \n",
        "        for i in z:\n",
        "            if (i.text):\n",
        "                tds = i.find_all('td')\n",
        "                tds = [x.text for x in tds][:-1]\n",
        "                for l in range(len(tds)):\n",
        "                    try:\n",
        "                        \n",
        "                        tds[l] = eval(tds[l].replace(\",\", \"\"))\n",
        "                    except:\n",
        "                        pass\n",
        "                header = tds[0]\n",
        "                if \"Profit & Loss\" in header:\n",
        "                    if(header in data):\n",
        "                            data[header] += tds[1:]\n",
        "                    else:\n",
        "                        data[header] = tds[1:]\n",
        "                if header in [\"Net Profit / Loss for The Year\", \"Basic EPS (Rs.)\", \"Diluted EPS (Rs.)\"]:\n",
        "                    if header != '\\xa0' and '' not in tds:\n",
        "        #                 print(tds)\n",
        "        #                 write.writerow(tds)\n",
        "                        if(header in data):\n",
        "                            data[header] += tds[1:]\n",
        "                        else:\n",
        "                            data[header] = tds[1:]\n",
        "    return data\n",
        "all_banks = dict()\n",
        "for i in BANKS_NIFTY_200:\n",
        "    all_banks[i] =  scrape(BANKS_NIFTY_200[i])"
      ],
      "metadata": {
        "id": "24CtToWTZq34"
      },
      "execution_count": null,
      "outputs": []
    },
    {
      "cell_type": "code",
      "source": [
        "for i in all_banks:\n",
        "    print(i)\n",
        "    for j in all_banks[i]:\n",
        "        print(j, all_banks[i][j])\n",
        "    print()"
      ],
      "metadata": {
        "id": "uAoZXKDtZtHo"
      },
      "execution_count": null,
      "outputs": []
    },
    {
      "cell_type": "code",
      "source": [
        "PE_ratio = {i : all_banks[i]['price']/all_banks[i]['Basic EPS (Rs.)'][0] for i in all_banks} \n",
        "EARNINGS_GROWTH = {i : (all_banks[i]['Basic EPS (Rs.)'][0] - all_banks[i]['Basic EPS (Rs.)'][1])/(all_banks[i]['Basic EPS (Rs.)'][1]) for i in all_banks}\n",
        "EARNINGS_GROWTH = {i: EARNINGS_GROWTH[i]*100 for i in EARNINGS_GROWTH}\n",
        "EPG = {i: PE_ratio[i]/EARNINGS_GROWTH[i] for i in PE_ratio}\n",
        "PEG = {}\n",
        "for i in EPG:\n",
        "    if EPG[i] >= 0:\n",
        "        PEG[i] = EPG[i] \n",
        "\n",
        "        \n",
        "PE_R = {}\n",
        "for i in PE_ratio:\n",
        "    if PE_ratio[i] >= 0: \n",
        "        PE_R[i] = PE_ratio[i]\n",
        "\n",
        "\n",
        "plt.plot([i for i in PEG], [PEG[i] for i in PEG])\n",
        "plt.xticks(rotation=45, ha='right')\n",
        "plt.title(\"PEG Ratio for Banking Scrips\")\n",
        "plt.show()\n",
        "\n",
        "plt.plot([i for i in PE_R], [PE_R[i] for i in PE_R])\n",
        "plt.xticks(rotation = 45, ha = 'right')\n",
        "plt.title(\"P/E Ratio for Banking Scrips\")\n",
        "plt.show()\n",
        "x_ = [i for i in PE_R]\n",
        "# x_ = [i for i in PEG]\n",
        "\n",
        "fig3 = make_subplots(specs=[[{\"secondary_y\": True}]])\n",
        "fig3.add_trace(go.Scatter(x=x_,y=[PEG[i] for i in PEG],name='PEG'), secondary_y=False)\n",
        "fig3.add_trace(go.Scatter(x=x_,y=[PE_R[i] for i in PE_R],name='P/E'),secondary_y=True)\n",
        "\n",
        "fig3.show()"
      ],
      "metadata": {
        "id": "Gvss3jHZZxZr"
      },
      "execution_count": null,
      "outputs": []
    },
    {
      "cell_type": "code",
      "source": [
        "fig3 = make_subplots(specs=[[{\"secondary_y\": True}]])\n",
        "x_ = all_banks[\"AXISBANK\"][\"Profit & Loss account of Axis Bank (in Rs. Cr.)\"][-1::-1]\n",
        "for i in all_banks:\n",
        "    fig3.add_trace(go.Scatter(x=x_,y=all_banks[i][\"Basic EPS (Rs.)\"],name=i),secondary_y=False)\n",
        "\n",
        "fig3.show()"
      ],
      "metadata": {
        "id": "PCLNneM5Z4Cq"
      },
      "execution_count": null,
      "outputs": []
    },
    {
      "cell_type": "markdown",
      "source": [
        ""
      ],
      "metadata": {
        "id": "puvDkGhvQvoi"
      }
    }
  ]
}